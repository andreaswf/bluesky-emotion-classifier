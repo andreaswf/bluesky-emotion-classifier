{
 "cells": [
  {
   "cell_type": "code",
   "execution_count": null,
   "metadata": {},
   "outputs": [],
   "source": [
    "import os\n",
    "import pandas as pd\n",
    "import numpy as np\n",
    "import random\n",
    "from datasets import load_dataset, DownloadMode, DatasetDict\n",
    "import matplotlib.pyplot as plt\n",
    "import seaborn as sns\n",
    "\n",
    "from sklearn.metrics import confusion_matrix, classification_report, ConfusionMatrixDisplay\n",
    "from sklearn.utils.class_weight import compute_class_weight\n",
    "\n",
    "import tensorflow as tf\n",
    "from tensorflow import keras\n",
    "from keras.layers import Embedding, GRU, Dense, Bidirectional, Dropout\n",
    "from keras.optimizers import Adam\n",
    "from keras.models import Sequential\n",
    "from keras.callbacks import EarlyStopping\n",
    "from keras.regularizers import l2\n",
    "\n",
    "\n",
    "import wandb\n",
    "from wandb.integration.keras import WandbMetricsLogger\n"
   ]
  },
  {
   "cell_type": "code",
   "execution_count": 70,
   "metadata": {},
   "outputs": [
    {
     "name": "stdout",
     "output_type": "stream",
     "text": [
      "TensorFlow version: 2.10.0\n",
      "Num GPUs Available: 0\n",
      "No GPU detected. Running on CPU.\n"
     ]
    }
   ],
   "source": [
    "print(\"TensorFlow version:\", tf.__version__)\n",
    "\n",
    "# Check if GPU is available\n",
    "gpus = tf.config.list_physical_devices('GPU')\n",
    "print(\"Num GPUs Available:\", len(gpus))\n",
    "\n",
    "if gpus:\n",
    "    print(\"GPU(s) detected:\")\n",
    "    for gpu in gpus:\n",
    "        print(f\"  - {gpu}\")\n",
    "else:\n",
    "    print(\"No GPU detected. Running on CPU.\")"
   ]
  },
  {
   "cell_type": "code",
   "execution_count": null,
   "metadata": {},
   "outputs": [
    {
     "name": "stdout",
     "output_type": "stream",
     "text": [
      "C:\\Users\\Fuglsang\\OneDrive\\DS projects\\bluesky-emotion-classifier\n"
     ]
    }
   ],
   "source": [
    "#setup random seed and check WD\n",
    "SEED = 42\n",
    "random.seed(SEED)\n",
    "np.random.seed(SEED)\n",
    "tf.keras.utils.set_random_seed(SEED)\n",
    "\n",
    "os.chdir(\"C:/Users/Fuglsang/OneDrive/DS projects/nlp-emotion-classifier\") \n",
    "print(os.getcwd())"
   ]
  },
  {
   "cell_type": "code",
   "execution_count": 72,
   "metadata": {},
   "outputs": [
    {
     "name": "stdout",
     "output_type": "stream",
     "text": [
      "Loaded 341,366 training rows\n",
      "Loaded 33,762 validation rows\n",
      "Loaded 41,681 testing rows\n"
     ]
    }
   ],
   "source": [
    "train_df = pd.read_parquet(\"data/parquet_files/train.parquet\")\n",
    "val_df = pd.read_parquet(\"data/parquet_files/validation.parquet\")\n",
    "test_df = pd.read_parquet(\"data/parquet_files/test.parquet\")\n",
    "\n",
    "print(f\"Loaded {len(train_df):,} training rows\")\n",
    "print(f\"Loaded {len(val_df):,} validation rows\")\n",
    "print(f\"Loaded {len(test_df):,} testing rows\")"
   ]
  },
  {
   "cell_type": "code",
   "execution_count": 73,
   "metadata": {},
   "outputs": [],
   "source": [
    "# Sets the vocab size, sequnce length and batch size. Vectorizes the dataframes, and creates train/val/test tf datasets.\n",
    "\n",
    "MAX_VOCAB = 4640\n",
    "MAX_SEQ_LEN = 52\n",
    "BATCH_SIZE = 128\n",
    "NUM_CLASSES = train_df[\"label\"].nunique()\n",
    "\n",
    "vectorizer = tf.keras.layers.TextVectorization(\n",
    "    max_tokens=MAX_VOCAB,\n",
    "    output_sequence_length=MAX_SEQ_LEN\n",
    ")\n",
    "vectorizer.adapt(train_df[\"text\"])\n",
    "\n",
    "def df_to_dataset(df, shuffle=False):\n",
    "    X = vectorizer(df[\"text\"])\n",
    "    y = df[\"label\"].to_numpy()\n",
    "    ds = tf.data.Dataset.from_tensor_slices((X, y))\n",
    "    if shuffle:\n",
    "        ds = ds.shuffle(buffer_size=len(df))\n",
    "    return ds.batch(BATCH_SIZE).cache().prefetch(tf.data.AUTOTUNE)\n",
    "\n",
    "train_ds = df_to_dataset(train_df, shuffle=True)\n",
    "val_ds   = df_to_dataset(val_df)\n",
    "test_ds  = df_to_dataset(test_df)\n",
    "\n"
   ]
  },
  {
   "cell_type": "code",
   "execution_count": 74,
   "metadata": {},
   "outputs": [
    {
     "data": {
      "text/plain": [
       "<PrefetchDataset element_spec=(TensorSpec(shape=(None, 52), dtype=tf.int64, name=None), TensorSpec(shape=(None,), dtype=tf.int64, name=None))>"
      ]
     },
     "execution_count": 74,
     "metadata": {},
     "output_type": "execute_result"
    }
   ],
   "source": [
    "test_ds"
   ]
  },
  {
   "cell_type": "code",
   "execution_count": 75,
   "metadata": {},
   "outputs": [
    {
     "name": "stdout",
     "output_type": "stream",
     "text": [
      "Class weights: {0: 0.5732311019761147, 1: 0.49244666793613423, 2: 2.0104004711425207, 3: 1.2120134066152557, 4: 1.4559917425870952, 5: 4.639890175610287}\n"
     ]
    }
   ],
   "source": [
    "# Compute class weights using sklearn\n",
    "classes, y_indices  = np.unique(train_df[\"label\"], return_inverse=True)\n",
    "\n",
    "weights = class_weights = compute_class_weight(\n",
    "    class_weight='balanced',\n",
    "    classes=classes,\n",
    "    y=y_indices \n",
    ")\n",
    "\n",
    "class_weights = dict(zip(classes, weights))\n",
    "\n",
    "print(\"Class weights:\", class_weights)"
   ]
  },
  {
   "cell_type": "code",
   "execution_count": null,
   "metadata": {},
   "outputs": [
    {
     "name": "stdout",
     "output_type": "stream",
     "text": [
      "Model: \"sequential_9\"\n",
      "_________________________________________________________________\n",
      " Layer (type)                Output Shape              Param #   \n",
      "=================================================================\n",
      " embedding_9 (Embedding)     (None, 52, 16)            74240     \n",
      "                                                                 \n",
      " bidirectional_9 (Bidirectio  (None, 64)               9600      \n",
      " nal)                                                            \n",
      "                                                                 \n",
      " dense_9 (Dense)             (None, 6)                 390       \n",
      "                                                                 \n",
      "=================================================================\n",
      "Total params: 84,230\n",
      "Trainable params: 84,230\n",
      "Non-trainable params: 0\n",
      "_________________________________________________________________\n"
     ]
    }
   ],
   "source": [
    "# Creates a first explorative model of simple design, using a bidirection GRU layer and a fairly small embedding dimension\n",
    "EMBEDDING_DIMENSION = 16\n",
    "\n",
    "config = {\n",
    "    \"learning_rate\": 0.001,\n",
    "    \"optimizer\": \"Adam\",\n",
    "    \"epochs\": 20,\n",
    "    \"dropout\": 0.5,\n",
    "    \"batch_size\": BATCH_SIZE,\n",
    "    \"vocab_size\": MAX_VOCAB,\n",
    "    \"max_seq_len\": MAX_SEQ_LEN,\n",
    "    \"embedding_dimension\": EMBEDDING_DIMENSION,\n",
    "    'weight_decay': 0,\n",
    "    'class_weights':True,\n",
    "    'num_classes': NUM_CLASSES\n",
    "}\n",
    "\n",
    "\n",
    "def create_model():\n",
    "    model = Sequential([\n",
    "        Embedding(input_dim=MAX_VOCAB, output_dim=EMBEDDING_DIMENSION, input_length=MAX_SEQ_LEN),\n",
    "        Bidirectional(GRU(32, dropout=config['dropout'])),\n",
    "        Dense(NUM_CLASSES, activation='softmax')\n",
    "    ])\n",
    "\n",
    "    return model\n",
    "model = create_model()\n",
    "model.summary()"
   ]
  },
  {
   "cell_type": "code",
   "execution_count": null,
   "metadata": {},
   "outputs": [
    {
     "data": {
      "text/html": [
       "Finishing previous runs because reinit is set to 'default'."
      ],
      "text/plain": [
       "<IPython.core.display.HTML object>"
      ]
     },
     "metadata": {},
     "output_type": "display_data"
    },
    {
     "data": {
      "text/html": [],
      "text/plain": [
       "<IPython.core.display.HTML object>"
      ]
     },
     "metadata": {},
     "output_type": "display_data"
    },
    {
     "data": {
      "text/html": [
       " View run <strong style=\"color:#cdcd00\">simple bidirectional GRU</strong> at: <a href='https://wandb.ai/awacherfuglsang-university-of-southern-denmark/NLP%20emotion-classifier/runs/iis2td2i' target=\"_blank\">https://wandb.ai/awacherfuglsang-university-of-southern-denmark/NLP%20emotion-classifier/runs/iis2td2i</a><br> View project at: <a href='https://wandb.ai/awacherfuglsang-university-of-southern-denmark/NLP%20emotion-classifier' target=\"_blank\">https://wandb.ai/awacherfuglsang-university-of-southern-denmark/NLP%20emotion-classifier</a><br>Synced 5 W&B file(s), 0 media file(s), 0 artifact file(s) and 0 other file(s)"
      ],
      "text/plain": [
       "<IPython.core.display.HTML object>"
      ]
     },
     "metadata": {},
     "output_type": "display_data"
    },
    {
     "data": {
      "text/html": [
       "Find logs at: <code>.\\wandb\\run-20250728_160131-iis2td2i\\logs</code>"
      ],
      "text/plain": [
       "<IPython.core.display.HTML object>"
      ]
     },
     "metadata": {},
     "output_type": "display_data"
    },
    {
     "data": {
      "text/html": [
       "Tracking run with wandb version 0.21.0"
      ],
      "text/plain": [
       "<IPython.core.display.HTML object>"
      ]
     },
     "metadata": {},
     "output_type": "display_data"
    },
    {
     "data": {
      "text/html": [
       "Run data is saved locally in <code>C:\\Users\\Fuglsang\\OneDrive\\DS projects\\bluesky-emotion-classifier\\wandb\\run-20250728_161503-zyagwjn2</code>"
      ],
      "text/plain": [
       "<IPython.core.display.HTML object>"
      ]
     },
     "metadata": {},
     "output_type": "display_data"
    },
    {
     "data": {
      "text/html": [
       "Syncing run <strong><a href='https://wandb.ai/awacherfuglsang-university-of-southern-denmark/NLP%20emotion-classifier/runs/zyagwjn2' target=\"_blank\">simple bidirectional GRU</a></strong> to <a href='https://wandb.ai/awacherfuglsang-university-of-southern-denmark/NLP%20emotion-classifier' target=\"_blank\">Weights & Biases</a> (<a href='https://wandb.me/developer-guide' target=\"_blank\">docs</a>)<br>"
      ],
      "text/plain": [
       "<IPython.core.display.HTML object>"
      ]
     },
     "metadata": {},
     "output_type": "display_data"
    },
    {
     "data": {
      "text/html": [
       " View project at <a href='https://wandb.ai/awacherfuglsang-university-of-southern-denmark/NLP%20emotion-classifier' target=\"_blank\">https://wandb.ai/awacherfuglsang-university-of-southern-denmark/NLP%20emotion-classifier</a>"
      ],
      "text/plain": [
       "<IPython.core.display.HTML object>"
      ]
     },
     "metadata": {},
     "output_type": "display_data"
    },
    {
     "data": {
      "text/html": [
       " View run at <a href='https://wandb.ai/awacherfuglsang-university-of-southern-denmark/NLP%20emotion-classifier/runs/zyagwjn2' target=\"_blank\">https://wandb.ai/awacherfuglsang-university-of-southern-denmark/NLP%20emotion-classifier/runs/zyagwjn2</a>"
      ],
      "text/plain": [
       "<IPython.core.display.HTML object>"
      ]
     },
     "metadata": {},
     "output_type": "display_data"
    },
    {
     "name": "stdout",
     "output_type": "stream",
     "text": [
      "Epoch 1/30\n",
      "2667/2667 [==============================] - 71s 26ms/step - loss: 0.6567 - accuracy: 0.7604 - val_loss: 0.3156 - val_accuracy: 0.9008\n",
      "Epoch 2/30\n",
      "2667/2667 [==============================] - 102s 38ms/step - loss: 0.2836 - accuracy: 0.8955 - val_loss: 0.2155 - val_accuracy: 0.9244\n",
      "Epoch 3/30\n",
      "2667/2667 [==============================] - 100s 38ms/step - loss: 0.1894 - accuracy: 0.9220 - val_loss: 0.1595 - val_accuracy: 0.9332\n",
      "Epoch 4/30\n",
      "2667/2667 [==============================] - 100s 38ms/step - loss: 0.1561 - accuracy: 0.9304 - val_loss: 0.1525 - val_accuracy: 0.9356\n",
      "Epoch 5/30\n",
      "2667/2667 [==============================] - 102s 38ms/step - loss: 0.1430 - accuracy: 0.9337 - val_loss: 0.1399 - val_accuracy: 0.9361\n",
      "Epoch 6/30\n",
      "2667/2667 [==============================] - 97s 36ms/step - loss: 0.1368 - accuracy: 0.9346 - val_loss: 0.1385 - val_accuracy: 0.9363\n",
      "Epoch 7/30\n",
      "2667/2667 [==============================] - 99s 37ms/step - loss: 0.1310 - accuracy: 0.9357 - val_loss: 0.1346 - val_accuracy: 0.9373\n",
      "Epoch 8/30\n",
      "2667/2667 [==============================] - 99s 37ms/step - loss: 0.1276 - accuracy: 0.9368 - val_loss: 0.1307 - val_accuracy: 0.9373\n",
      "Epoch 9/30\n",
      "2667/2667 [==============================] - 101s 38ms/step - loss: 0.1248 - accuracy: 0.9371 - val_loss: 0.1280 - val_accuracy: 0.9375\n",
      "Epoch 10/30\n",
      "2667/2667 [==============================] - 99s 37ms/step - loss: 0.1227 - accuracy: 0.9380 - val_loss: 0.1302 - val_accuracy: 0.9376\n",
      "Epoch 11/30\n",
      "2667/2667 [==============================] - 100s 38ms/step - loss: 0.1219 - accuracy: 0.9376 - val_loss: 0.1275 - val_accuracy: 0.9379\n",
      "Epoch 12/30\n",
      "2667/2667 [==============================] - 99s 37ms/step - loss: 0.1196 - accuracy: 0.9382 - val_loss: 0.1299 - val_accuracy: 0.9378\n",
      "Epoch 13/30\n",
      "2667/2667 [==============================] - 99s 37ms/step - loss: 0.1185 - accuracy: 0.9385 - val_loss: 0.1267 - val_accuracy: 0.9379\n",
      "Epoch 14/30\n",
      "2667/2667 [==============================] - 100s 38ms/step - loss: 0.1171 - accuracy: 0.9385 - val_loss: 0.1256 - val_accuracy: 0.9375\n",
      "Epoch 15/30\n",
      "2667/2667 [==============================] - 101s 38ms/step - loss: 0.1158 - accuracy: 0.9391 - val_loss: 0.1271 - val_accuracy: 0.9375\n",
      "Epoch 16/30\n",
      "2667/2667 [==============================] - 102s 38ms/step - loss: 0.1152 - accuracy: 0.9394 - val_loss: 0.1235 - val_accuracy: 0.9377\n",
      "Epoch 17/30\n",
      "2667/2667 [==============================] - 103s 38ms/step - loss: 0.1146 - accuracy: 0.9394 - val_loss: 0.1290 - val_accuracy: 0.9375\n",
      "Epoch 18/30\n",
      "2667/2667 [==============================] - 102s 38ms/step - loss: 0.1139 - accuracy: 0.9396 - val_loss: 0.1267 - val_accuracy: 0.9380\n",
      "Epoch 19/30\n",
      "2667/2667 [==============================] - 101s 38ms/step - loss: 0.1134 - accuracy: 0.9397 - val_loss: 0.1265 - val_accuracy: 0.9381\n",
      "Epoch 20/30\n",
      "2667/2667 [==============================] - 104s 39ms/step - loss: 0.1137 - accuracy: 0.9395 - val_loss: 0.1242 - val_accuracy: 0.9378\n",
      "Epoch 21/30\n",
      "2667/2667 [==============================] - 103s 39ms/step - loss: 0.1119 - accuracy: 0.9397 - val_loss: 0.1239 - val_accuracy: 0.9379\n",
      "Epoch 22/30\n",
      "2667/2667 [==============================] - ETA: 0s - loss: 0.1122 - accuracy: 0.9400Restoring model weights from the end of the best epoch: 16.\n",
      "2667/2667 [==============================] - 106s 40ms/step - loss: 0.1122 - accuracy: 0.9400 - val_loss: 0.1255 - val_accuracy: 0.9382\n",
      "Epoch 22: early stopping\n"
     ]
    },
    {
     "name": "stderr",
     "output_type": "stream",
     "text": [
      "\u001b[34m\u001b[1mwandb\u001b[0m: \u001b[32m\u001b[41mERROR\u001b[0m The nbformat package was not found. It is required to save notebook history.\n"
     ]
    },
    {
     "data": {
      "text/html": [],
      "text/plain": [
       "<IPython.core.display.HTML object>"
      ]
     },
     "metadata": {},
     "output_type": "display_data"
    },
    {
     "data": {
      "text/html": [
       "<br>    <style><br>        .wandb-row {<br>            display: flex;<br>            flex-direction: row;<br>            flex-wrap: wrap;<br>            justify-content: flex-start;<br>            width: 100%;<br>        }<br>        .wandb-col {<br>            display: flex;<br>            flex-direction: column;<br>            flex-basis: 100%;<br>            flex: 1;<br>            padding: 10px;<br>        }<br>    </style><br><div class=\"wandb-row\"><div class=\"wandb-col\"><h3>Run history:</h3><br/><table class=\"wandb\"><tr><td>epoch/accuracy</td><td>▁▆▇███████████████████</td></tr><tr><td>epoch/epoch</td><td>▁▁▂▂▂▃▃▃▄▄▄▅▅▅▆▆▆▇▇▇██</td></tr><tr><td>epoch/learning_rate</td><td>▁▁▁▁▁▁▁▁▁▁▁▁▁▁▁▁▁▁▁▁▁▁</td></tr><tr><td>epoch/loss</td><td>█▃▂▂▁▁▁▁▁▁▁▁▁▁▁▁▁▁▁▁▁▁</td></tr><tr><td>epoch/val_accuracy</td><td>▁▅▇███████████████████</td></tr><tr><td>epoch/val_loss</td><td>█▄▂▂▂▂▁▁▁▁▁▁▁▁▁▁▁▁▁▁▁▁</td></tr></table><br/></div><div class=\"wandb-col\"><h3>Run summary:</h3><br/><table class=\"wandb\"><tr><td>best_val_accuracy</td><td>0.93821</td></tr><tr><td>best_val_loss</td><td>0.12353</td></tr><tr><td>epoch/accuracy</td><td>0.94</td></tr><tr><td>epoch/epoch</td><td>21</td></tr><tr><td>epoch/learning_rate</td><td>0.001</td></tr><tr><td>epoch/loss</td><td>0.11216</td></tr><tr><td>epoch/val_accuracy</td><td>0.93821</td></tr><tr><td>epoch/val_loss</td><td>0.12553</td></tr></table><br/></div></div>"
      ],
      "text/plain": [
       "<IPython.core.display.HTML object>"
      ]
     },
     "metadata": {},
     "output_type": "display_data"
    },
    {
     "data": {
      "text/html": [
       " View run <strong style=\"color:#cdcd00\">simple bidirectional GRU</strong> at: <a href='https://wandb.ai/awacherfuglsang-university-of-southern-denmark/NLP%20emotion-classifier/runs/zyagwjn2' target=\"_blank\">https://wandb.ai/awacherfuglsang-university-of-southern-denmark/NLP%20emotion-classifier/runs/zyagwjn2</a><br> View project at: <a href='https://wandb.ai/awacherfuglsang-university-of-southern-denmark/NLP%20emotion-classifier' target=\"_blank\">https://wandb.ai/awacherfuglsang-university-of-southern-denmark/NLP%20emotion-classifier</a><br>Synced 5 W&B file(s), 0 media file(s), 0 artifact file(s) and 0 other file(s)"
      ],
      "text/plain": [
       "<IPython.core.display.HTML object>"
      ]
     },
     "metadata": {},
     "output_type": "display_data"
    },
    {
     "data": {
      "text/html": [
       "Find logs at: <code>.\\wandb\\run-20250728_161503-zyagwjn2\\logs</code>"
      ],
      "text/plain": [
       "<IPython.core.display.HTML object>"
      ]
     },
     "metadata": {},
     "output_type": "display_data"
    }
   ],
   "source": [
    "# Initialize wandb run\n",
    "wandb.init(project=\"NLP emotion-classifier\", name=\"simple bidirectional GRU\", group=\"GRU\", config=config, notes=\"A simple solution without further hyperparameter tuning\")\n",
    "\n",
    "# Compile model\n",
    "model = create_model()\n",
    "model.compile(\n",
    "    optimizer=Adam(learning_rate=0.001),\n",
    "    loss='sparse_categorical_crossentropy',\n",
    "    metrics=['accuracy']\n",
    ")\n",
    "\n",
    "\n",
    "early_stop = EarlyStopping(\n",
    "    monitor='val_loss',\n",
    "    patience=6,\n",
    "    restore_best_weights=True,\n",
    "    verbose=1\n",
    ")\n",
    "\n",
    "# Initialize model training\n",
    "history = model.fit(\n",
    "    train_ds,\n",
    "    validation_data=val_ds,\n",
    "    epochs=30,\n",
    "    class_weight=class_weights,\n",
    "    callbacks=[\n",
    "        WandbMetricsLogger(),\n",
    "        early_stop\n",
    "    ]\n",
    ")\n",
    "\n",
    "\n",
    "wandb.run.summary[\"best_val_loss\"] = min(history.history['val_loss'])\n",
    "wandb.run.summary[\"best_val_accuracy\"] = max(history.history['val_accuracy'])\n",
    "\n",
    "wandb.finish()"
   ]
  },
  {
   "cell_type": "markdown",
   "metadata": {},
   "source": [
    "Creating the dataset for the final evalutation by"
   ]
  },
  {
   "cell_type": "code",
   "execution_count": 80,
   "metadata": {},
   "outputs": [
    {
     "name": "stderr",
     "output_type": "stream",
     "text": [
      "WARNING:absl:Found untraced functions such as gru_cell_37_layer_call_fn, gru_cell_37_layer_call_and_return_conditional_losses, gru_cell_38_layer_call_fn, gru_cell_38_layer_call_and_return_conditional_losses while saving (showing 4 of 4). These functions will not be directly callable after loading.\n"
     ]
    },
    {
     "name": "stdout",
     "output_type": "stream",
     "text": [
      "INFO:tensorflow:Assets written to: data/saved_models/simple_gru_model\\assets\n"
     ]
    },
    {
     "name": "stderr",
     "output_type": "stream",
     "text": [
      "INFO:tensorflow:Assets written to: data/saved_models/simple_gru_model\\assets\n"
     ]
    }
   ],
   "source": [
    "model.save(\"data/saved_models/simple_gru_model\")\n"
   ]
  },
  {
   "cell_type": "code",
   "execution_count": 64,
   "metadata": {},
   "outputs": [],
   "source": [
    "model = keras.models.load_model(\"data/saved_models/simple_gru_model\")"
   ]
  },
  {
   "cell_type": "code",
   "execution_count": null,
   "metadata": {},
   "outputs": [
    {
     "name": "stdout",
     "output_type": "stream",
     "text": [
      "326/326 [==============================] - 8s 24ms/step\n",
      "Confusion Matrix:\n",
      " [[11545    14     5   318   216    21]\n",
      " [    7 12910  1008    42     9   131]\n",
      " [    2     5  3445     1     1     1]\n",
      " [   18    12     1  5478   223     0]\n",
      " [    5     2     0    35  4310   419]\n",
      " [    0     1     0     0     0  1496]]\n",
      "Classification Report:\n",
      "               precision    recall  f1-score   support\n",
      "\n",
      "           0     0.9972    0.9526    0.9744     12119\n",
      "           1     0.9974    0.9151    0.9545     14107\n",
      "           2     0.7726    0.9971    0.8706      3455\n",
      "           3     0.9326    0.9557    0.9440      5732\n",
      "           4     0.9057    0.9034    0.9045      4771\n",
      "           5     0.7234    0.9993    0.8393      1497\n",
      "\n",
      "    accuracy                         0.9401     41681\n",
      "   macro avg     0.8881    0.9539    0.9146     41681\n",
      "weighted avg     0.9495    0.9401    0.9420     41681\n",
      "\n"
     ]
    }
   ],
   "source": [
    "\n",
    "# predictions using test ds\n",
    "y_pred_probs = model.predict(test_ds)\n",
    "y_pred = y_pred_probs.argmax(axis=1)\n",
    "\n",
    "# Get the true labels from the test dataframe\n",
    "y_true = test_df[\"label\"].to_numpy()\n",
    "\n",
    "# Confusion Matrix\n",
    "cm = confusion_matrix(y_true, y_pred)\n",
    "print(\"Confusion Matrix:\\n\", cm)\n",
    "\n",
    "# Classification report\n",
    "report = classification_report(y_true, y_pred, digits=4)\n",
    "print(\"Classification Report:\\n\", report)"
   ]
  },
  {
   "cell_type": "code",
   "execution_count": 82,
   "metadata": {},
   "outputs": [
    {
     "data": {
      "image/png": "[encoded data removed]",
      "text/plain": [
       "<Figure size 640x480 with 2 Axes>"
      ]
     },
     "metadata": {},
     "output_type": "display_data"
    }
   ],
   "source": [
    "disp = ConfusionMatrixDisplay(confusion_matrix=cm, display_labels=['sadness', 'joy', 'love', 'anger', 'fear', 'surprise'])\n",
    "disp.plot(cmap=plt.cm.Blues)\n",
    "plt.show()\n"
   ]
  }
 ],
 "metadata": {
  "kernelspec": {
   "display_name": ".venv",
   "language": "python",
   "name": "python3"
  },
  "language_info": {
   "codemirror_mode": {
    "name": "ipython",
    "version": 3
   },
   "file_extension": ".py",
   "mimetype": "text/x-python",
   "name": "python",
   "nbconvert_exporter": "python",
   "pygments_lexer": "ipython3",
   "version": "3.10.0"
  }
 },
 "nbformat": 4,
 "nbformat_minor": 2
}
